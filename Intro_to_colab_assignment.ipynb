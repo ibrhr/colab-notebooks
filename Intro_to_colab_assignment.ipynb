{
  "nbformat": 4,
  "nbformat_minor": 0,
  "metadata": {
    "colab": {
      "provenance": [],
      "authorship_tag": "ABX9TyOZTgpiGRzTFynYjYgOleFr",
      "include_colab_link": true
    },
    "kernelspec": {
      "name": "python3",
      "display_name": "Python 3"
    },
    "language_info": {
      "name": "python"
    }
  },
  "cells": [
    {
      "cell_type": "markdown",
      "metadata": {
        "id": "view-in-github",
        "colab_type": "text"
      },
      "source": [
        "<a href=\"https://colab.research.google.com/github/ibrhr/colab-notebooks/blob/main/Intro_to_colab_assignment.ipynb\" target=\"_parent\"><img src=\"https://colab.research.google.com/assets/colab-badge.svg\" alt=\"Open In Colab\"/></a>"
      ]
    },
    {
      "cell_type": "code",
      "execution_count": 1,
      "metadata": {
        "colab": {
          "base_uri": "https://localhost:8080/"
        },
        "id": "1_uf09a95GDT",
        "outputId": "d29a5266-d518-42c1-fd4a-67259bbd0afe"
      },
      "outputs": [
        {
          "output_type": "stream",
          "name": "stdout",
          "text": [
            "Hello World\n"
          ]
        }
      ],
      "source": [
        "print('Hello World')"
      ]
    },
    {
      "cell_type": "markdown",
      "source": [
        "In this notebook I am going to briefly explain the dot product between two vectors.\n",
        "\n",
        "For two vectors $\\vec a$ and $\\vec b$, the dot product is defined as:\n",
        "\n",
        "\\begin{align}\n",
        "\\vec a \\ . \\ \\vec b = \\sum_{i = 1}^n a_i b_i\n",
        "\\end{align}\n",
        "\n",
        "Using words, the result of a dot product between two vectors is a scalar which is equal to the sum of the product of the respective elements in the two vectors.\n"
      ],
      "metadata": {
        "id": "TvS-lBpF-KIA"
      }
    },
    {
      "cell_type": "code",
      "source": [],
      "metadata": {
        "id": "aH4KO2Im-XPn"
      },
      "execution_count": null,
      "outputs": []
    }
  ]
}